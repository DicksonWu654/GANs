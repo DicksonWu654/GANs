{
  "nbformat": 4,
  "nbformat_minor": 0,
  "metadata": {
    "accelerator": "GPU",
    "colab": {
      "name": "MNIST DCGAN.ipynb",
      "provenance": []
    },
    "kernelspec": {
      "display_name": "Python 3",
      "name": "python3"
    },
    "widgets": {
      "application/vnd.jupyter.widget-state+json": {
        "46f4d53da66f4114bfae3445e82c76dc": {
          "model_module": "@jupyter-widgets/controls",
          "model_name": "HBoxModel",
          "state": {
            "_dom_classes": [],
            "_model_module": "@jupyter-widgets/controls",
            "_model_module_version": "1.5.0",
            "_model_name": "HBoxModel",
            "_view_count": null,
            "_view_module": "@jupyter-widgets/controls",
            "_view_module_version": "1.5.0",
            "_view_name": "HBoxView",
            "box_style": "",
            "children": [
              "IPY_MODEL_1950125b0e204077b35b41e4196c205c",
              "IPY_MODEL_2f452803585341f4bf84a23dc62ececd"
            ],
            "layout": "IPY_MODEL_481f21182ed244e4aec9c732c06d4c78"
          }
        },
        "1950125b0e204077b35b41e4196c205c": {
          "model_module": "@jupyter-widgets/controls",
          "model_name": "FloatProgressModel",
          "state": {
            "_dom_classes": [],
            "_model_module": "@jupyter-widgets/controls",
            "_model_module_version": "1.5.0",
            "_model_name": "FloatProgressModel",
            "_view_count": null,
            "_view_module": "@jupyter-widgets/controls",
            "_view_module_version": "1.5.0",
            "_view_name": "ProgressView",
            "bar_style": "info",
            "description": "",
            "description_tooltip": null,
            "layout": "IPY_MODEL_9a6d411342bc4fed81da9b9d7e32ec37",
            "max": 1,
            "min": 0,
            "orientation": "horizontal",
            "style": "IPY_MODEL_9e55763cec844943a7f4ae618e02ebae",
            "value": 1
          }
        },
        "2f452803585341f4bf84a23dc62ececd": {
          "model_module": "@jupyter-widgets/controls",
          "model_name": "HTMLModel",
          "state": {
            "_dom_classes": [],
            "_model_module": "@jupyter-widgets/controls",
            "_model_module_version": "1.5.0",
            "_model_name": "HTMLModel",
            "_view_count": null,
            "_view_module": "@jupyter-widgets/controls",
            "_view_module_version": "1.5.0",
            "_view_name": "HTMLView",
            "description": "",
            "description_tooltip": null,
            "layout": "IPY_MODEL_833ff85a5aea4f268613c859b752daee",
            "placeholder": "​",
            "style": "IPY_MODEL_33fe90e51621474f9babbb2973322bdb",
            "value": " 9920512/? [00:20&lt;00:00, 166716.00it/s]"
          }
        },
        "481f21182ed244e4aec9c732c06d4c78": {
          "model_module": "@jupyter-widgets/base",
          "model_name": "LayoutModel",
          "state": {
            "_model_module": "@jupyter-widgets/base",
            "_model_module_version": "1.2.0",
            "_model_name": "LayoutModel",
            "_view_count": null,
            "_view_module": "@jupyter-widgets/base",
            "_view_module_version": "1.2.0",
            "_view_name": "LayoutView",
            "align_content": null,
            "align_items": null,
            "align_self": null,
            "border": null,
            "bottom": null,
            "display": null,
            "flex": null,
            "flex_flow": null,
            "grid_area": null,
            "grid_auto_columns": null,
            "grid_auto_flow": null,
            "grid_auto_rows": null,
            "grid_column": null,
            "grid_gap": null,
            "grid_row": null,
            "grid_template_areas": null,
            "grid_template_columns": null,
            "grid_template_rows": null,
            "height": null,
            "justify_content": null,
            "justify_items": null,
            "left": null,
            "margin": null,
            "max_height": null,
            "max_width": null,
            "min_height": null,
            "min_width": null,
            "object_fit": null,
            "object_position": null,
            "order": null,
            "overflow": null,
            "overflow_x": null,
            "overflow_y": null,
            "padding": null,
            "right": null,
            "top": null,
            "visibility": null,
            "width": null
          }
        },
        "9a6d411342bc4fed81da9b9d7e32ec37": {
          "model_module": "@jupyter-widgets/base",
          "model_name": "LayoutModel",
          "state": {
            "_model_module": "@jupyter-widgets/base",
            "_model_module_version": "1.2.0",
            "_model_name": "LayoutModel",
            "_view_count": null,
            "_view_module": "@jupyter-widgets/base",
            "_view_module_version": "1.2.0",
            "_view_name": "LayoutView",
            "align_content": null,
            "align_items": null,
            "align_self": null,
            "border": null,
            "bottom": null,
            "display": null,
            "flex": null,
            "flex_flow": null,
            "grid_area": null,
            "grid_auto_columns": null,
            "grid_auto_flow": null,
            "grid_auto_rows": null,
            "grid_column": null,
            "grid_gap": null,
            "grid_row": null,
            "grid_template_areas": null,
            "grid_template_columns": null,
            "grid_template_rows": null,
            "height": null,
            "justify_content": null,
            "justify_items": null,
            "left": null,
            "margin": null,
            "max_height": null,
            "max_width": null,
            "min_height": null,
            "min_width": null,
            "object_fit": null,
            "object_position": null,
            "order": null,
            "overflow": null,
            "overflow_x": null,
            "overflow_y": null,
            "padding": null,
            "right": null,
            "top": null,
            "visibility": null,
            "width": null
          }
        },
        "9e55763cec844943a7f4ae618e02ebae": {
          "model_module": "@jupyter-widgets/controls",
          "model_name": "ProgressStyleModel",
          "state": {
            "_model_module": "@jupyter-widgets/controls",
            "_model_module_version": "1.5.0",
            "_model_name": "ProgressStyleModel",
            "_view_count": null,
            "_view_module": "@jupyter-widgets/base",
            "_view_module_version": "1.2.0",
            "_view_name": "StyleView",
            "bar_color": null,
            "description_width": "initial"
          }
        },
        "833ff85a5aea4f268613c859b752daee": {
          "model_module": "@jupyter-widgets/base",
          "model_name": "LayoutModel",
          "state": {
            "_model_module": "@jupyter-widgets/base",
            "_model_module_version": "1.2.0",
            "_model_name": "LayoutModel",
            "_view_count": null,
            "_view_module": "@jupyter-widgets/base",
            "_view_module_version": "1.2.0",
            "_view_name": "LayoutView",
            "align_content": null,
            "align_items": null,
            "align_self": null,
            "border": null,
            "bottom": null,
            "display": null,
            "flex": null,
            "flex_flow": null,
            "grid_area": null,
            "grid_auto_columns": null,
            "grid_auto_flow": null,
            "grid_auto_rows": null,
            "grid_column": null,
            "grid_gap": null,
            "grid_row": null,
            "grid_template_areas": null,
            "grid_template_columns": null,
            "grid_template_rows": null,
            "height": null,
            "justify_content": null,
            "justify_items": null,
            "left": null,
            "margin": null,
            "max_height": null,
            "max_width": null,
            "min_height": null,
            "min_width": null,
            "object_fit": null,
            "object_position": null,
            "order": null,
            "overflow": null,
            "overflow_x": null,
            "overflow_y": null,
            "padding": null,
            "right": null,
            "top": null,
            "visibility": null,
            "width": null
          }
        },
        "33fe90e51621474f9babbb2973322bdb": {
          "model_module": "@jupyter-widgets/controls",
          "model_name": "DescriptionStyleModel",
          "state": {
            "_model_module": "@jupyter-widgets/controls",
            "_model_module_version": "1.5.0",
            "_model_name": "DescriptionStyleModel",
            "_view_count": null,
            "_view_module": "@jupyter-widgets/base",
            "_view_module_version": "1.2.0",
            "_view_name": "StyleView",
            "description_width": ""
          }
        },
        "e06e4c6bf13d4738adc3ae51c85d9f15": {
          "model_module": "@jupyter-widgets/controls",
          "model_name": "HBoxModel",
          "state": {
            "_dom_classes": [],
            "_model_module": "@jupyter-widgets/controls",
            "_model_module_version": "1.5.0",
            "_model_name": "HBoxModel",
            "_view_count": null,
            "_view_module": "@jupyter-widgets/controls",
            "_view_module_version": "1.5.0",
            "_view_name": "HBoxView",
            "box_style": "",
            "children": [
              "IPY_MODEL_a5801a013cac4491a6dc6c85a7ab98c5",
              "IPY_MODEL_13084d9c6c474160a3a95feb899528fe"
            ],
            "layout": "IPY_MODEL_42686cf9c74443849935f2ed5cd9b941"
          }
        },
        "a5801a013cac4491a6dc6c85a7ab98c5": {
          "model_module": "@jupyter-widgets/controls",
          "model_name": "FloatProgressModel",
          "state": {
            "_dom_classes": [],
            "_model_module": "@jupyter-widgets/controls",
            "_model_module_version": "1.5.0",
            "_model_name": "FloatProgressModel",
            "_view_count": null,
            "_view_module": "@jupyter-widgets/controls",
            "_view_module_version": "1.5.0",
            "_view_name": "ProgressView",
            "bar_style": "success",
            "description": "",
            "description_tooltip": null,
            "layout": "IPY_MODEL_53ce54df60894b3d80ef6c8a484e2fa6",
            "max": 1,
            "min": 0,
            "orientation": "horizontal",
            "style": "IPY_MODEL_341ebf0f26074b11a3436ff916bbdd0a",
            "value": 1
          }
        },
        "13084d9c6c474160a3a95feb899528fe": {
          "model_module": "@jupyter-widgets/controls",
          "model_name": "HTMLModel",
          "state": {
            "_dom_classes": [],
            "_model_module": "@jupyter-widgets/controls",
            "_model_module_version": "1.5.0",
            "_model_name": "HTMLModel",
            "_view_count": null,
            "_view_module": "@jupyter-widgets/controls",
            "_view_module_version": "1.5.0",
            "_view_name": "HTMLView",
            "description": "",
            "description_tooltip": null,
            "layout": "IPY_MODEL_ec6b7e439ee34483b148b14eadf074bb",
            "placeholder": "​",
            "style": "IPY_MODEL_e56f21f802574cae8d5e18039191dfd0",
            "value": " 32768/? [00:00&lt;00:00, 406399.28it/s]"
          }
        },
        "42686cf9c74443849935f2ed5cd9b941": {
          "model_module": "@jupyter-widgets/base",
          "model_name": "LayoutModel",
          "state": {
            "_model_module": "@jupyter-widgets/base",
            "_model_module_version": "1.2.0",
            "_model_name": "LayoutModel",
            "_view_count": null,
            "_view_module": "@jupyter-widgets/base",
            "_view_module_version": "1.2.0",
            "_view_name": "LayoutView",
            "align_content": null,
            "align_items": null,
            "align_self": null,
            "border": null,
            "bottom": null,
            "display": null,
            "flex": null,
            "flex_flow": null,
            "grid_area": null,
            "grid_auto_columns": null,
            "grid_auto_flow": null,
            "grid_auto_rows": null,
            "grid_column": null,
            "grid_gap": null,
            "grid_row": null,
            "grid_template_areas": null,
            "grid_template_columns": null,
            "grid_template_rows": null,
            "height": null,
            "justify_content": null,
            "justify_items": null,
            "left": null,
            "margin": null,
            "max_height": null,
            "max_width": null,
            "min_height": null,
            "min_width": null,
            "object_fit": null,
            "object_position": null,
            "order": null,
            "overflow": null,
            "overflow_x": null,
            "overflow_y": null,
            "padding": null,
            "right": null,
            "top": null,
            "visibility": null,
            "width": null
          }
        },
        "53ce54df60894b3d80ef6c8a484e2fa6": {
          "model_module": "@jupyter-widgets/base",
          "model_name": "LayoutModel",
          "state": {
            "_model_module": "@jupyter-widgets/base",
            "_model_module_version": "1.2.0",
            "_model_name": "LayoutModel",
            "_view_count": null,
            "_view_module": "@jupyter-widgets/base",
            "_view_module_version": "1.2.0",
            "_view_name": "LayoutView",
            "align_content": null,
            "align_items": null,
            "align_self": null,
            "border": null,
            "bottom": null,
            "display": null,
            "flex": null,
            "flex_flow": null,
            "grid_area": null,
            "grid_auto_columns": null,
            "grid_auto_flow": null,
            "grid_auto_rows": null,
            "grid_column": null,
            "grid_gap": null,
            "grid_row": null,
            "grid_template_areas": null,
            "grid_template_columns": null,
            "grid_template_rows": null,
            "height": null,
            "justify_content": null,
            "justify_items": null,
            "left": null,
            "margin": null,
            "max_height": null,
            "max_width": null,
            "min_height": null,
            "min_width": null,
            "object_fit": null,
            "object_position": null,
            "order": null,
            "overflow": null,
            "overflow_x": null,
            "overflow_y": null,
            "padding": null,
            "right": null,
            "top": null,
            "visibility": null,
            "width": null
          }
        },
        "341ebf0f26074b11a3436ff916bbdd0a": {
          "model_module": "@jupyter-widgets/controls",
          "model_name": "ProgressStyleModel",
          "state": {
            "_model_module": "@jupyter-widgets/controls",
            "_model_module_version": "1.5.0",
            "_model_name": "ProgressStyleModel",
            "_view_count": null,
            "_view_module": "@jupyter-widgets/base",
            "_view_module_version": "1.2.0",
            "_view_name": "StyleView",
            "bar_color": null,
            "description_width": "initial"
          }
        },
        "ec6b7e439ee34483b148b14eadf074bb": {
          "model_module": "@jupyter-widgets/base",
          "model_name": "LayoutModel",
          "state": {
            "_model_module": "@jupyter-widgets/base",
            "_model_module_version": "1.2.0",
            "_model_name": "LayoutModel",
            "_view_count": null,
            "_view_module": "@jupyter-widgets/base",
            "_view_module_version": "1.2.0",
            "_view_name": "LayoutView",
            "align_content": null,
            "align_items": null,
            "align_self": null,
            "border": null,
            "bottom": null,
            "display": null,
            "flex": null,
            "flex_flow": null,
            "grid_area": null,
            "grid_auto_columns": null,
            "grid_auto_flow": null,
            "grid_auto_rows": null,
            "grid_column": null,
            "grid_gap": null,
            "grid_row": null,
            "grid_template_areas": null,
            "grid_template_columns": null,
            "grid_template_rows": null,
            "height": null,
            "justify_content": null,
            "justify_items": null,
            "left": null,
            "margin": null,
            "max_height": null,
            "max_width": null,
            "min_height": null,
            "min_width": null,
            "object_fit": null,
            "object_position": null,
            "order": null,
            "overflow": null,
            "overflow_x": null,
            "overflow_y": null,
            "padding": null,
            "right": null,
            "top": null,
            "visibility": null,
            "width": null
          }
        },
        "e56f21f802574cae8d5e18039191dfd0": {
          "model_module": "@jupyter-widgets/controls",
          "model_name": "DescriptionStyleModel",
          "state": {
            "_model_module": "@jupyter-widgets/controls",
            "_model_module_version": "1.5.0",
            "_model_name": "DescriptionStyleModel",
            "_view_count": null,
            "_view_module": "@jupyter-widgets/base",
            "_view_module_version": "1.2.0",
            "_view_name": "StyleView",
            "description_width": ""
          }
        },
        "8ded75335e004ec7a1433702d6c55768": {
          "model_module": "@jupyter-widgets/controls",
          "model_name": "HBoxModel",
          "state": {
            "_dom_classes": [],
            "_model_module": "@jupyter-widgets/controls",
            "_model_module_version": "1.5.0",
            "_model_name": "HBoxModel",
            "_view_count": null,
            "_view_module": "@jupyter-widgets/controls",
            "_view_module_version": "1.5.0",
            "_view_name": "HBoxView",
            "box_style": "",
            "children": [
              "IPY_MODEL_95fe2a4eef4b49f5b227437a71e352f9",
              "IPY_MODEL_7317524cd1664956bc06ee46bb4c3d0e"
            ],
            "layout": "IPY_MODEL_7bcb66920e764f7a805b633a69d5ac1c"
          }
        },
        "95fe2a4eef4b49f5b227437a71e352f9": {
          "model_module": "@jupyter-widgets/controls",
          "model_name": "FloatProgressModel",
          "state": {
            "_dom_classes": [],
            "_model_module": "@jupyter-widgets/controls",
            "_model_module_version": "1.5.0",
            "_model_name": "FloatProgressModel",
            "_view_count": null,
            "_view_module": "@jupyter-widgets/controls",
            "_view_module_version": "1.5.0",
            "_view_name": "ProgressView",
            "bar_style": "info",
            "description": "",
            "description_tooltip": null,
            "layout": "IPY_MODEL_df7f027108864eb18015669e4111565a",
            "max": 1,
            "min": 0,
            "orientation": "horizontal",
            "style": "IPY_MODEL_f2f80ed7a6e241edb9106191c255cdba",
            "value": 1
          }
        },
        "7317524cd1664956bc06ee46bb4c3d0e": {
          "model_module": "@jupyter-widgets/controls",
          "model_name": "HTMLModel",
          "state": {
            "_dom_classes": [],
            "_model_module": "@jupyter-widgets/controls",
            "_model_module_version": "1.5.0",
            "_model_name": "HTMLModel",
            "_view_count": null,
            "_view_module": "@jupyter-widgets/controls",
            "_view_module_version": "1.5.0",
            "_view_name": "HTMLView",
            "description": "",
            "description_tooltip": null,
            "layout": "IPY_MODEL_0d983b02e722406baecfc02b4ce420d0",
            "placeholder": "​",
            "style": "IPY_MODEL_1b94489210684af0ace3ca106857027e",
            "value": " 1654784/? [00:19&lt;00:00, 7058453.10it/s]"
          }
        },
        "7bcb66920e764f7a805b633a69d5ac1c": {
          "model_module": "@jupyter-widgets/base",
          "model_name": "LayoutModel",
          "state": {
            "_model_module": "@jupyter-widgets/base",
            "_model_module_version": "1.2.0",
            "_model_name": "LayoutModel",
            "_view_count": null,
            "_view_module": "@jupyter-widgets/base",
            "_view_module_version": "1.2.0",
            "_view_name": "LayoutView",
            "align_content": null,
            "align_items": null,
            "align_self": null,
            "border": null,
            "bottom": null,
            "display": null,
            "flex": null,
            "flex_flow": null,
            "grid_area": null,
            "grid_auto_columns": null,
            "grid_auto_flow": null,
            "grid_auto_rows": null,
            "grid_column": null,
            "grid_gap": null,
            "grid_row": null,
            "grid_template_areas": null,
            "grid_template_columns": null,
            "grid_template_rows": null,
            "height": null,
            "justify_content": null,
            "justify_items": null,
            "left": null,
            "margin": null,
            "max_height": null,
            "max_width": null,
            "min_height": null,
            "min_width": null,
            "object_fit": null,
            "object_position": null,
            "order": null,
            "overflow": null,
            "overflow_x": null,
            "overflow_y": null,
            "padding": null,
            "right": null,
            "top": null,
            "visibility": null,
            "width": null
          }
        },
        "df7f027108864eb18015669e4111565a": {
          "model_module": "@jupyter-widgets/base",
          "model_name": "LayoutModel",
          "state": {
            "_model_module": "@jupyter-widgets/base",
            "_model_module_version": "1.2.0",
            "_model_name": "LayoutModel",
            "_view_count": null,
            "_view_module": "@jupyter-widgets/base",
            "_view_module_version": "1.2.0",
            "_view_name": "LayoutView",
            "align_content": null,
            "align_items": null,
            "align_self": null,
            "border": null,
            "bottom": null,
            "display": null,
            "flex": null,
            "flex_flow": null,
            "grid_area": null,
            "grid_auto_columns": null,
            "grid_auto_flow": null,
            "grid_auto_rows": null,
            "grid_column": null,
            "grid_gap": null,
            "grid_row": null,
            "grid_template_areas": null,
            "grid_template_columns": null,
            "grid_template_rows": null,
            "height": null,
            "justify_content": null,
            "justify_items": null,
            "left": null,
            "margin": null,
            "max_height": null,
            "max_width": null,
            "min_height": null,
            "min_width": null,
            "object_fit": null,
            "object_position": null,
            "order": null,
            "overflow": null,
            "overflow_x": null,
            "overflow_y": null,
            "padding": null,
            "right": null,
            "top": null,
            "visibility": null,
            "width": null
          }
        },
        "f2f80ed7a6e241edb9106191c255cdba": {
          "model_module": "@jupyter-widgets/controls",
          "model_name": "ProgressStyleModel",
          "state": {
            "_model_module": "@jupyter-widgets/controls",
            "_model_module_version": "1.5.0",
            "_model_name": "ProgressStyleModel",
            "_view_count": null,
            "_view_module": "@jupyter-widgets/base",
            "_view_module_version": "1.2.0",
            "_view_name": "StyleView",
            "bar_color": null,
            "description_width": "initial"
          }
        },
        "0d983b02e722406baecfc02b4ce420d0": {
          "model_module": "@jupyter-widgets/base",
          "model_name": "LayoutModel",
          "state": {
            "_model_module": "@jupyter-widgets/base",
            "_model_module_version": "1.2.0",
            "_model_name": "LayoutModel",
            "_view_count": null,
            "_view_module": "@jupyter-widgets/base",
            "_view_module_version": "1.2.0",
            "_view_name": "LayoutView",
            "align_content": null,
            "align_items": null,
            "align_self": null,
            "border": null,
            "bottom": null,
            "display": null,
            "flex": null,
            "flex_flow": null,
            "grid_area": null,
            "grid_auto_columns": null,
            "grid_auto_flow": null,
            "grid_auto_rows": null,
            "grid_column": null,
            "grid_gap": null,
            "grid_row": null,
            "grid_template_areas": null,
            "grid_template_columns": null,
            "grid_template_rows": null,
            "height": null,
            "justify_content": null,
            "justify_items": null,
            "left": null,
            "margin": null,
            "max_height": null,
            "max_width": null,
            "min_height": null,
            "min_width": null,
            "object_fit": null,
            "object_position": null,
            "order": null,
            "overflow": null,
            "overflow_x": null,
            "overflow_y": null,
            "padding": null,
            "right": null,
            "top": null,
            "visibility": null,
            "width": null
          }
        },
        "1b94489210684af0ace3ca106857027e": {
          "model_module": "@jupyter-widgets/controls",
          "model_name": "DescriptionStyleModel",
          "state": {
            "_model_module": "@jupyter-widgets/controls",
            "_model_module_version": "1.5.0",
            "_model_name": "DescriptionStyleModel",
            "_view_count": null,
            "_view_module": "@jupyter-widgets/base",
            "_view_module_version": "1.2.0",
            "_view_name": "StyleView",
            "description_width": ""
          }
        },
        "3d549caa90fd4f02bed6acc713d2d44e": {
          "model_module": "@jupyter-widgets/controls",
          "model_name": "HBoxModel",
          "state": {
            "_dom_classes": [],
            "_model_module": "@jupyter-widgets/controls",
            "_model_module_version": "1.5.0",
            "_model_name": "HBoxModel",
            "_view_count": null,
            "_view_module": "@jupyter-widgets/controls",
            "_view_module_version": "1.5.0",
            "_view_name": "HBoxView",
            "box_style": "",
            "children": [
              "IPY_MODEL_c850848af2924212a237e5441fc3e9ec",
              "IPY_MODEL_a3bf89ecceb74f35ba246c65f8cb5397"
            ],
            "layout": "IPY_MODEL_db298e32fb114d988936467ed24ad2bd"
          }
        },
        "c850848af2924212a237e5441fc3e9ec": {
          "model_module": "@jupyter-widgets/controls",
          "model_name": "FloatProgressModel",
          "state": {
            "_dom_classes": [],
            "_model_module": "@jupyter-widgets/controls",
            "_model_module_version": "1.5.0",
            "_model_name": "FloatProgressModel",
            "_view_count": null,
            "_view_module": "@jupyter-widgets/controls",
            "_view_module_version": "1.5.0",
            "_view_name": "ProgressView",
            "bar_style": "success",
            "description": "",
            "description_tooltip": null,
            "layout": "IPY_MODEL_fdd86e83e9be450da4662bf47a993847",
            "max": 1,
            "min": 0,
            "orientation": "horizontal",
            "style": "IPY_MODEL_6937eb9496ac4af79b50374f20dff30e",
            "value": 1
          }
        },
        "a3bf89ecceb74f35ba246c65f8cb5397": {
          "model_module": "@jupyter-widgets/controls",
          "model_name": "HTMLModel",
          "state": {
            "_dom_classes": [],
            "_model_module": "@jupyter-widgets/controls",
            "_model_module_version": "1.5.0",
            "_model_name": "HTMLModel",
            "_view_count": null,
            "_view_module": "@jupyter-widgets/controls",
            "_view_module_version": "1.5.0",
            "_view_name": "HTMLView",
            "description": "",
            "description_tooltip": null,
            "layout": "IPY_MODEL_ca41b4b3663145f3a3699dce14fa4a46",
            "placeholder": "​",
            "style": "IPY_MODEL_a1e277ae47184b4e8a864d490e4b4338",
            "value": " 8192/? [00:00&lt;00:00, 19890.43it/s]"
          }
        },
        "db298e32fb114d988936467ed24ad2bd": {
          "model_module": "@jupyter-widgets/base",
          "model_name": "LayoutModel",
          "state": {
            "_model_module": "@jupyter-widgets/base",
            "_model_module_version": "1.2.0",
            "_model_name": "LayoutModel",
            "_view_count": null,
            "_view_module": "@jupyter-widgets/base",
            "_view_module_version": "1.2.0",
            "_view_name": "LayoutView",
            "align_content": null,
            "align_items": null,
            "align_self": null,
            "border": null,
            "bottom": null,
            "display": null,
            "flex": null,
            "flex_flow": null,
            "grid_area": null,
            "grid_auto_columns": null,
            "grid_auto_flow": null,
            "grid_auto_rows": null,
            "grid_column": null,
            "grid_gap": null,
            "grid_row": null,
            "grid_template_areas": null,
            "grid_template_columns": null,
            "grid_template_rows": null,
            "height": null,
            "justify_content": null,
            "justify_items": null,
            "left": null,
            "margin": null,
            "max_height": null,
            "max_width": null,
            "min_height": null,
            "min_width": null,
            "object_fit": null,
            "object_position": null,
            "order": null,
            "overflow": null,
            "overflow_x": null,
            "overflow_y": null,
            "padding": null,
            "right": null,
            "top": null,
            "visibility": null,
            "width": null
          }
        },
        "fdd86e83e9be450da4662bf47a993847": {
          "model_module": "@jupyter-widgets/base",
          "model_name": "LayoutModel",
          "state": {
            "_model_module": "@jupyter-widgets/base",
            "_model_module_version": "1.2.0",
            "_model_name": "LayoutModel",
            "_view_count": null,
            "_view_module": "@jupyter-widgets/base",
            "_view_module_version": "1.2.0",
            "_view_name": "LayoutView",
            "align_content": null,
            "align_items": null,
            "align_self": null,
            "border": null,
            "bottom": null,
            "display": null,
            "flex": null,
            "flex_flow": null,
            "grid_area": null,
            "grid_auto_columns": null,
            "grid_auto_flow": null,
            "grid_auto_rows": null,
            "grid_column": null,
            "grid_gap": null,
            "grid_row": null,
            "grid_template_areas": null,
            "grid_template_columns": null,
            "grid_template_rows": null,
            "height": null,
            "justify_content": null,
            "justify_items": null,
            "left": null,
            "margin": null,
            "max_height": null,
            "max_width": null,
            "min_height": null,
            "min_width": null,
            "object_fit": null,
            "object_position": null,
            "order": null,
            "overflow": null,
            "overflow_x": null,
            "overflow_y": null,
            "padding": null,
            "right": null,
            "top": null,
            "visibility": null,
            "width": null
          }
        },
        "6937eb9496ac4af79b50374f20dff30e": {
          "model_module": "@jupyter-widgets/controls",
          "model_name": "ProgressStyleModel",
          "state": {
            "_model_module": "@jupyter-widgets/controls",
            "_model_module_version": "1.5.0",
            "_model_name": "ProgressStyleModel",
            "_view_count": null,
            "_view_module": "@jupyter-widgets/base",
            "_view_module_version": "1.2.0",
            "_view_name": "StyleView",
            "bar_color": null,
            "description_width": "initial"
          }
        },
        "ca41b4b3663145f3a3699dce14fa4a46": {
          "model_module": "@jupyter-widgets/base",
          "model_name": "LayoutModel",
          "state": {
            "_model_module": "@jupyter-widgets/base",
            "_model_module_version": "1.2.0",
            "_model_name": "LayoutModel",
            "_view_count": null,
            "_view_module": "@jupyter-widgets/base",
            "_view_module_version": "1.2.0",
            "_view_name": "LayoutView",
            "align_content": null,
            "align_items": null,
            "align_self": null,
            "border": null,
            "bottom": null,
            "display": null,
            "flex": null,
            "flex_flow": null,
            "grid_area": null,
            "grid_auto_columns": null,
            "grid_auto_flow": null,
            "grid_auto_rows": null,
            "grid_column": null,
            "grid_gap": null,
            "grid_row": null,
            "grid_template_areas": null,
            "grid_template_columns": null,
            "grid_template_rows": null,
            "height": null,
            "justify_content": null,
            "justify_items": null,
            "left": null,
            "margin": null,
            "max_height": null,
            "max_width": null,
            "min_height": null,
            "min_width": null,
            "object_fit": null,
            "object_position": null,
            "order": null,
            "overflow": null,
            "overflow_x": null,
            "overflow_y": null,
            "padding": null,
            "right": null,
            "top": null,
            "visibility": null,
            "width": null
          }
        },
        "a1e277ae47184b4e8a864d490e4b4338": {
          "model_module": "@jupyter-widgets/controls",
          "model_name": "DescriptionStyleModel",
          "state": {
            "_model_module": "@jupyter-widgets/controls",
            "_model_module_version": "1.5.0",
            "_model_name": "DescriptionStyleModel",
            "_view_count": null,
            "_view_module": "@jupyter-widgets/base",
            "_view_module_version": "1.2.0",
            "_view_name": "StyleView",
            "description_width": ""
          }
        }
      }
    }
  },
  "cells": [
    {
      "cell_type": "code",
      "metadata": {
        "id": "p_0l62Dgq7Ru"
      },
      "source": [
        "import torch\n",
        "import torchvision.datasets as datasets\n",
        "import torchvision.transforms as transforms\n",
        "from torch.utils.data import DataLoader\n",
        "from torchvision.utils import save_image\n",
        "from torch.autograd import Variable\n",
        "\n",
        "import torch.nn as nn\n",
        "import torch.functional as F\n",
        "\n",
        "import os\n",
        "import numpy as np\n",
        "import matplotlib.pyplot as plt\n",
        "import math"
      ],
      "execution_count": null,
      "outputs": []
    },
    {
      "cell_type": "code",
      "metadata": {
        "id": "2prY8MBPsQhf"
      },
      "source": [
        "os.makedirs('images', exist_ok=True)"
      ],
      "execution_count": null,
      "outputs": []
    },
    {
      "cell_type": "code",
      "metadata": {
        "id": "3qjh7hNQuYxf"
      },
      "source": [
        "bs = 64\n",
        "latent = 100\n",
        "channels = 1\n",
        "img_size = 28"
      ],
      "execution_count": null,
      "outputs": []
    },
    {
      "cell_type": "code",
      "metadata": {
        "colab": {
          "base_uri": "https://localhost:8080/",
          "height": 386,
          "referenced_widgets": [
            "46f4d53da66f4114bfae3445e82c76dc",
            "1950125b0e204077b35b41e4196c205c",
            "2f452803585341f4bf84a23dc62ececd",
            "481f21182ed244e4aec9c732c06d4c78",
            "9a6d411342bc4fed81da9b9d7e32ec37",
            "9e55763cec844943a7f4ae618e02ebae",
            "833ff85a5aea4f268613c859b752daee",
            "33fe90e51621474f9babbb2973322bdb",
            "e06e4c6bf13d4738adc3ae51c85d9f15",
            "a5801a013cac4491a6dc6c85a7ab98c5",
            "13084d9c6c474160a3a95feb899528fe",
            "42686cf9c74443849935f2ed5cd9b941",
            "53ce54df60894b3d80ef6c8a484e2fa6",
            "341ebf0f26074b11a3436ff916bbdd0a",
            "ec6b7e439ee34483b148b14eadf074bb",
            "e56f21f802574cae8d5e18039191dfd0",
            "8ded75335e004ec7a1433702d6c55768",
            "95fe2a4eef4b49f5b227437a71e352f9",
            "7317524cd1664956bc06ee46bb4c3d0e",
            "7bcb66920e764f7a805b633a69d5ac1c",
            "df7f027108864eb18015669e4111565a",
            "f2f80ed7a6e241edb9106191c255cdba",
            "0d983b02e722406baecfc02b4ce420d0",
            "1b94489210684af0ace3ca106857027e",
            "3d549caa90fd4f02bed6acc713d2d44e",
            "c850848af2924212a237e5441fc3e9ec",
            "a3bf89ecceb74f35ba246c65f8cb5397",
            "db298e32fb114d988936467ed24ad2bd",
            "fdd86e83e9be450da4662bf47a993847",
            "6937eb9496ac4af79b50374f20dff30e",
            "ca41b4b3663145f3a3699dce14fa4a46",
            "a1e277ae47184b4e8a864d490e4b4338"
          ]
        },
        "id": "KIGwfQaytCht",
        "outputId": "b2b9f14d-1381-45ef-df5a-6f1725e897ba"
      },
      "source": [
        "dataloader = DataLoader(\n",
        "    datasets.MNIST('data/', download = True, transform = transforms.Compose((transforms.ToTensor(), transforms.Normalize([0.5], [0.5])))),\n",
        "    bs,True\n",
        ")"
      ],
      "execution_count": null,
      "outputs": [
        {
          "output_type": "stream",
          "text": [
            "Downloading http://yann.lecun.com/exdb/mnist/train-images-idx3-ubyte.gz to data/MNIST/raw/train-images-idx3-ubyte.gz\n"
          ],
          "name": "stdout"
        },
        {
          "output_type": "display_data",
          "data": {
            "application/vnd.jupyter.widget-view+json": {
              "model_id": "46f4d53da66f4114bfae3445e82c76dc",
              "version_major": 2,
              "version_minor": 0
            },
            "text/plain": [
              "HBox(children=(FloatProgress(value=1.0, bar_style='info', max=1.0), HTML(value='')))"
            ]
          },
          "metadata": {
            "tags": []
          }
        },
        {
          "output_type": "stream",
          "text": [
            "Extracting data/MNIST/raw/train-images-idx3-ubyte.gz to data/MNIST/raw\n",
            "Downloading http://yann.lecun.com/exdb/mnist/train-labels-idx1-ubyte.gz to data/MNIST/raw/train-labels-idx1-ubyte.gz\n"
          ],
          "name": "stdout"
        },
        {
          "output_type": "display_data",
          "data": {
            "application/vnd.jupyter.widget-view+json": {
              "model_id": "e06e4c6bf13d4738adc3ae51c85d9f15",
              "version_major": 2,
              "version_minor": 0
            },
            "text/plain": [
              "HBox(children=(FloatProgress(value=1.0, bar_style='info', max=1.0), HTML(value='')))"
            ]
          },
          "metadata": {
            "tags": []
          }
        },
        {
          "output_type": "stream",
          "text": [
            "Extracting data/MNIST/raw/train-labels-idx1-ubyte.gz to data/MNIST/raw\n",
            "Downloading http://yann.lecun.com/exdb/mnist/t10k-images-idx3-ubyte.gz to data/MNIST/raw/t10k-images-idx3-ubyte.gz\n",
            "\n"
          ],
          "name": "stdout"
        },
        {
          "output_type": "display_data",
          "data": {
            "application/vnd.jupyter.widget-view+json": {
              "model_id": "8ded75335e004ec7a1433702d6c55768",
              "version_major": 2,
              "version_minor": 0
            },
            "text/plain": [
              "HBox(children=(FloatProgress(value=1.0, bar_style='info', max=1.0), HTML(value='')))"
            ]
          },
          "metadata": {
            "tags": []
          }
        },
        {
          "output_type": "stream",
          "text": [
            "Extracting data/MNIST/raw/t10k-images-idx3-ubyte.gz to data/MNIST/raw\n",
            "Downloading http://yann.lecun.com/exdb/mnist/t10k-labels-idx1-ubyte.gz to data/MNIST/raw/t10k-labels-idx1-ubyte.gz\n"
          ],
          "name": "stdout"
        },
        {
          "output_type": "display_data",
          "data": {
            "application/vnd.jupyter.widget-view+json": {
              "model_id": "3d549caa90fd4f02bed6acc713d2d44e",
              "version_major": 2,
              "version_minor": 0
            },
            "text/plain": [
              "HBox(children=(FloatProgress(value=1.0, bar_style='info', max=1.0), HTML(value='')))"
            ]
          },
          "metadata": {
            "tags": []
          }
        },
        {
          "output_type": "stream",
          "text": [
            "Extracting data/MNIST/raw/t10k-labels-idx1-ubyte.gz to data/MNIST/raw\n",
            "Processing...\n",
            "Done!\n"
          ],
          "name": "stdout"
        },
        {
          "output_type": "stream",
          "text": [
            "/usr/local/lib/python3.6/dist-packages/torchvision/datasets/mnist.py:480: UserWarning: The given NumPy array is not writeable, and PyTorch does not support non-writeable tensors. This means you can write to the underlying (supposedly non-writeable) NumPy array using the tensor. You may want to copy the array to protect its data or make it writeable before converting it to a tensor. This type of warning will be suppressed for the rest of this program. (Triggered internally at  /pytorch/torch/csrc/utils/tensor_numpy.cpp:141.)\n",
            "  return torch.from_numpy(parsed.astype(m[2], copy=False)).view(*s)\n"
          ],
          "name": "stderr"
        }
      ]
    },
    {
      "cell_type": "code",
      "metadata": {
        "colab": {
          "base_uri": "https://localhost:8080/"
        },
        "id": "JW3TVuLGuZ0k",
        "outputId": "ec61a223-d20b-442a-aa6b-583cccb6759f"
      },
      "source": [
        "for x,y in dataloader:\n",
        "  xx = x\n",
        "  print(x.shape)\n",
        "  break"
      ],
      "execution_count": null,
      "outputs": [
        {
          "output_type": "stream",
          "text": [
            "torch.Size([64, 1, 28, 28])\n"
          ],
          "name": "stdout"
        }
      ]
    },
    {
      "cell_type": "code",
      "metadata": {
        "id": "--6tTUDRux99"
      },
      "source": [
        "cuda = True if torch.cuda.is_available() else False"
      ],
      "execution_count": null,
      "outputs": []
    },
    {
      "cell_type": "code",
      "metadata": {
        "colab": {
          "base_uri": "https://localhost:8080/"
        },
        "id": "3FDoPAceaUNS",
        "outputId": "f4bce6df-f10a-41eb-d068-f37baf989b7a"
      },
      "source": [
        "cuda"
      ],
      "execution_count": null,
      "outputs": [
        {
          "output_type": "execute_result",
          "data": {
            "text/plain": [
              "True"
            ]
          },
          "metadata": {
            "tags": []
          },
          "execution_count": 7
        }
      ]
    },
    {
      "cell_type": "code",
      "metadata": {
        "colab": {
          "base_uri": "https://localhost:8080/"
        },
        "id": "yXAuFuqLaWC2",
        "outputId": "529308d2-0f85-47d9-b5b7-bd23debcfeea"
      },
      "source": [
        "# We make sure the initialized parameters are drawn from a normal distribution to help with training\n",
        "def weights_init_normal(m):\n",
        "  classname = m.__class__.__name__\n",
        "  if classname.find(\"Conv\") != -1:\n",
        "    torch.nn.init.normal_(m.weight.data, 0.0, 0.2)\n",
        "  elif classname.find(\"BatchNorm\") != -1:\n",
        "    torch.nn.init.normal_(m.weight.data, 0.0, 0.2)\n",
        "    torch.nn.init.constant_(m.bias, 0.0)"
      ],
      "execution_count": null,
      "outputs": [
        {
          "output_type": "stream",
          "text": [
            "\n"
          ],
          "name": "stdout"
        }
      ]
    },
    {
      "cell_type": "code",
      "metadata": {
        "id": "ekmBj_eaabdu"
      },
      "source": [
        "class Generator(nn.Module):\n",
        "  def __init__(self):\n",
        "    super(Generator, self).__init__()\n",
        "\n",
        "    self.divfourthing = img_size // 4\n",
        "    self.L1 = nn.Linear(latent, 128 * self.divfourthing **2)\n",
        "\n",
        "    self.MeatOfTheModel = nn.Sequential(\n",
        "        nn.BatchNorm2d(128),\n",
        "        nn.Upsample(scale_factor=2),\n",
        "        nn.Conv2d(128, 128, 3, 1, 1, padding_mode='reflect'),\n",
        "        nn.LeakyReLU(0.2, inplace=True),\n",
        "        nn.BatchNorm2d(128, 0.8),\n",
        "        nn.Upsample(scale_factor=2),\n",
        "        nn.Conv2d(128, 64, 3, 1, 1, padding_mode='reflect'),\n",
        "        nn.LeakyReLU(0.2, inplace=True),\n",
        "        nn.Conv2d(64, channels, 3, 1, 1, padding_mode='reflect'),\n",
        "        nn.Tanh(),\n",
        "    )\n",
        "  \n",
        "  def forward(self, z):\n",
        "    out = self.L1(z)\n",
        "    real_out = out.view(z.size(0), 128, self.divfourthing, self.divfourthing)\n",
        "    return self.MeatOfTheModel(real_out)"
      ],
      "execution_count": null,
      "outputs": []
    },
    {
      "cell_type": "code",
      "metadata": {
        "id": "lMX_BVm6eosp"
      },
      "source": [
        "# gen = Generator()"
      ],
      "execution_count": null,
      "outputs": []
    },
    {
      "cell_type": "code",
      "metadata": {
        "id": "LDmus73gep8w"
      },
      "source": [
        "# xxx = gen(torch.randn(bs,latent))\n",
        "# xxx.shape"
      ],
      "execution_count": null,
      "outputs": []
    },
    {
      "cell_type": "code",
      "metadata": {
        "id": "WoZvjp0xe6Nh"
      },
      "source": [
        "class Descriminator(nn.Module):\n",
        "  def __init__(self):\n",
        "    super(Descriminator, self).__init__()\n",
        "\n",
        "    def block(inn, out, batchnorm = True):\n",
        "      layers = [nn.Conv2d(inn, out, 3, 2, 1, padding_mode='reflect'), nn.LeakyReLU(0.2), nn.Dropout2d(0.25)]\n",
        "      if batchnorm:\n",
        "        layers.append(nn.BatchNorm2d(out))\n",
        "      \n",
        "      return layers\n",
        "    \n",
        "    self.model = nn.Sequential(\n",
        "        *block(channels, 16, False),\n",
        "        *block(16, 32),\n",
        "        *block(32, 64),\n",
        "        *block(64, 128)\n",
        "    )\n",
        "    \n",
        "    self.thing = img_size // 2 ** 4\n",
        "    self.final = nn.Sequential(nn.Linear(512, 1), nn.Sigmoid()) #Custom override.... \n",
        "  \n",
        "  def forward(self,z):\n",
        "    out = self.model(z)\n",
        "    real_out = out.view(z.size(0), -1)\n",
        "    really_out = self.final(real_out)\n",
        "    return really_out"
      ],
      "execution_count": null,
      "outputs": []
    },
    {
      "cell_type": "code",
      "metadata": {
        "id": "i77ctyASuQvS"
      },
      "source": [
        "# des = Descriminator()\n",
        "# h = des(xxx); h.shape"
      ],
      "execution_count": null,
      "outputs": []
    },
    {
      "cell_type": "code",
      "metadata": {
        "id": "fybD6Lul0BXT"
      },
      "source": [
        "# real = Variable(Tensor(bs, 1).fill_(1.0), requires_grad = False)\n",
        "# real.shape"
      ],
      "execution_count": null,
      "outputs": []
    },
    {
      "cell_type": "code",
      "metadata": {
        "id": "BUIzTiAA5NF0"
      },
      "source": [
        "# h,real"
      ],
      "execution_count": null,
      "outputs": []
    },
    {
      "cell_type": "code",
      "metadata": {
        "id": "g0oOghyR0FnE"
      },
      "source": [
        "# los(h, real)"
      ],
      "execution_count": null,
      "outputs": []
    },
    {
      "cell_type": "code",
      "metadata": {
        "id": "PSv8zYs9uWLx"
      },
      "source": [
        "gen = Generator()\n",
        "des = Descriminator()\n",
        "los = nn.BCELoss()"
      ],
      "execution_count": null,
      "outputs": []
    },
    {
      "cell_type": "code",
      "metadata": {
        "id": "waYQnTKMu4ym"
      },
      "source": [
        "if cuda:\n",
        "  gen.cuda()\n",
        "  des.cuda()\n",
        "  los.cuda()"
      ],
      "execution_count": null,
      "outputs": []
    },
    {
      "cell_type": "code",
      "metadata": {
        "id": "GBRLxNelu8d8"
      },
      "source": [
        "gen.apply(weights_init_normal);\n",
        "des.apply(weights_init_normal);"
      ],
      "execution_count": null,
      "outputs": []
    },
    {
      "cell_type": "code",
      "metadata": {
        "id": "Gvm99BtbvEjm"
      },
      "source": [
        "sam_vec = torch.randn(bs, latent).to('cuda')\n",
        "\n",
        "def save_imagee(jjj):\n",
        "  lol = gen(sam_vec)\n",
        "  lolol = lol.view(bs, channels, img_size, img_size)\n",
        "  save_image(lolol, 'images/fake_image{0:0=5d}.png'.format(jjj), int(math.sqrt(bs)), normalize = True)"
      ],
      "execution_count": null,
      "outputs": []
    },
    {
      "cell_type": "code",
      "metadata": {
        "id": "iKxtoQ9zxacX"
      },
      "source": [
        "lr = 0.00008\n",
        "b1 = 0.5\n",
        "b2 = 0.999\n",
        "\n",
        "epochs = 1000\n",
        "jjj = 0\n",
        "\n",
        "loss_g_values = []\n",
        "loss_d_values = []"
      ],
      "execution_count": null,
      "outputs": []
    },
    {
      "cell_type": "code",
      "metadata": {
        "id": "SfJ2NJ-WxQ9W"
      },
      "source": [
        "opt_g = torch.optim.Adam(gen.parameters(), lr, (b1,b2))\n",
        "opt_d = torch.optim.Adam(des.parameters(), lr, (b1,b2))"
      ],
      "execution_count": null,
      "outputs": []
    },
    {
      "cell_type": "code",
      "metadata": {
        "id": "qAJ8R2ZWxL8V"
      },
      "source": [
        "Tensor = torch.cuda.FloatTensor if cuda else torch.FloatTensor"
      ],
      "execution_count": null,
      "outputs": []
    },
    {
      "cell_type": "code",
      "metadata": {
        "colab": {
          "base_uri": "https://localhost:8080/"
        },
        "id": "7WLm41Zjw_yK",
        "outputId": "a595f34f-5505-45e8-9fae-361f6275403a"
      },
      "source": [
        "for __ in range(1):\n",
        "  for i, (img,_) in enumerate(dataloader):\n",
        "    if i % 20 == 0:\n",
        "      jjj += 1\n",
        "      print(jjj)\n",
        "      save_imagee(jjj)\n",
        "    real = Variable(Tensor(img.shape[0], 1).fill_(0.9), requires_grad = False)\n",
        "    fake = Variable(Tensor(img.shape[0], 1).fill_(0.1), requires_grad = False)\n",
        "\n",
        "    imgs = Variable(img.type(Tensor))\n",
        "\n",
        "    opt_g.zero_grad()\n",
        "    z = torch.randn(img.shape[0], latent).to('cuda')\n",
        "    fake_img = gen(z)\n",
        "    loss = los(des(fake_img), real)\n",
        "    loss.backward()\n",
        "    opt_g.step()\n",
        "\n",
        "    opt_d.zero_grad()\n",
        "    take_imgg = gen(z.detach())\n",
        "    l1 = los(des(take_imgg), fake)\n",
        "    l2 = los(des(imgs), real)\n",
        "    losss = l1 + l2\n",
        "    losss.backward()\n",
        "    opt_d.step()\n",
        "  print('epoch:', __)"
      ],
      "execution_count": null,
      "outputs": [
        {
          "output_type": "stream",
          "text": [
            "1\n",
            "2\n",
            "3\n",
            "4\n",
            "5\n",
            "6\n",
            "7\n",
            "8\n",
            "9\n",
            "10\n",
            "11\n",
            "12\n",
            "13\n",
            "14\n",
            "15\n",
            "16\n",
            "17\n",
            "18\n",
            "19\n",
            "20\n",
            "21\n",
            "22\n",
            "23\n",
            "24\n",
            "25\n",
            "26\n",
            "27\n",
            "28\n",
            "29\n",
            "30\n",
            "31\n",
            "32\n",
            "33\n",
            "34\n",
            "35\n",
            "36\n",
            "37\n",
            "38\n",
            "39\n",
            "40\n",
            "41\n",
            "42\n",
            "43\n",
            "44\n",
            "45\n",
            "46\n",
            "47\n",
            "epoch: 0\n"
          ],
          "name": "stdout"
        }
      ]
    },
    {
      "cell_type": "code",
      "metadata": {
        "colab": {
          "background_save": true
        },
        "id": "zgrekZaWeBJv",
        "outputId": "bba93635-0289-4c77-d49a-c4f361e04ecf"
      },
      "source": [
        "for __ in range(5):\r\n",
        "  for i, (img,_) in enumerate(dataloader):\r\n",
        "    if i % 50 == 0:\r\n",
        "      jjj += 1\r\n",
        "      print(jjj)\r\n",
        "      save_imagee(jjj)\r\n",
        "    real = Variable(Tensor(img.shape[0], 1).fill_(0.9), requires_grad = False)\r\n",
        "    fake = Variable(Tensor(img.shape[0], 1).fill_(0.1), requires_grad = False)\r\n",
        "\r\n",
        "    imgs = Variable(img.type(Tensor))\r\n",
        "\r\n",
        "    opt_g.zero_grad()\r\n",
        "    z = torch.randn(img.shape[0], latent).to('cuda')\r\n",
        "    fake_img = gen(z)\r\n",
        "    loss = los(des(fake_img), real)\r\n",
        "    loss.backward()\r\n",
        "    opt_g.step()\r\n",
        "\r\n",
        "    opt_d.zero_grad()\r\n",
        "    take_imgg = gen(z.detach())\r\n",
        "    l1 = los(des(take_imgg), fake)\r\n",
        "    l2 = los(des(imgs), real)\r\n",
        "    losss = l1 + l2\r\n",
        "    losss.backward()\r\n",
        "    opt_d.step()\r\n",
        "  print('epoch:', __)"
      ],
      "execution_count": null,
      "outputs": [
        {
          "output_type": "stream",
          "text": [
            "48\n",
            "49\n",
            "50\n",
            "51\n",
            "52\n",
            "53\n",
            "54\n",
            "55\n",
            "56\n",
            "57\n",
            "58\n",
            "59\n",
            "60\n",
            "61\n",
            "62\n",
            "63\n",
            "64\n",
            "65\n",
            "66\n",
            "epoch: 0\n",
            "67\n",
            "68\n",
            "69\n",
            "70\n",
            "71\n",
            "72\n",
            "73\n",
            "74\n",
            "75\n",
            "76\n",
            "77\n",
            "78\n",
            "79\n",
            "80\n",
            "81\n",
            "82\n",
            "83\n",
            "84\n",
            "85\n",
            "epoch: 1\n",
            "86\n",
            "87\n",
            "88\n",
            "89\n",
            "90\n",
            "91\n",
            "92\n",
            "93\n",
            "94\n",
            "95\n",
            "96\n",
            "97\n",
            "98\n",
            "99\n",
            "100\n",
            "101\n",
            "102\n",
            "103\n",
            "104\n",
            "epoch: 2\n",
            "105\n",
            "106\n",
            "107\n",
            "108\n",
            "109\n",
            "110\n",
            "111\n",
            "112\n",
            "113\n",
            "114\n",
            "115\n",
            "116\n",
            "117\n",
            "118\n",
            "119\n",
            "120\n",
            "121\n",
            "122\n",
            "123\n",
            "epoch: 3\n",
            "124\n",
            "125\n",
            "126\n",
            "127\n",
            "128\n",
            "129\n",
            "130\n",
            "131\n",
            "132\n",
            "133\n",
            "134\n",
            "135\n",
            "136\n",
            "137\n",
            "138\n",
            "139\n",
            "140\n",
            "141\n",
            "142\n",
            "epoch: 4\n"
          ],
          "name": "stdout"
        }
      ]
    },
    {
      "cell_type": "code",
      "metadata": {
        "colab": {
          "base_uri": "https://localhost:8080/"
        },
        "id": "bpt5oHRNgmwY",
        "outputId": "b1340cd9-4c03-4f2d-f887-26dc5d3fa3dc"
      },
      "source": [
        "for __ in range(15):\r\n",
        "  for i, (img,_) in enumerate(dataloader):\r\n",
        "    if i % 360 == 0:\r\n",
        "      jjj += 1\r\n",
        "      print(jjj)\r\n",
        "      save_imagee(jjj)\r\n",
        "    real = Variable(Tensor(img.shape[0], 1).fill_(0.9), requires_grad = False)\r\n",
        "    fake = Variable(Tensor(img.shape[0], 1).fill_(0.1), requires_grad = False)\r\n",
        "    \r\n",
        "\r\n",
        "    imgs = Variable(img.type(Tensor))\r\n",
        "\r\n",
        "    opt_g.zero_grad()\r\n",
        "    z = torch.randn(img.shape[0], latent).to('cuda')\r\n",
        "    fake_img = gen(z)\r\n",
        "    loss = los(des(fake_img), real)\r\n",
        "    loss.backward()\r\n",
        "    opt_g.step()\r\n",
        "\r\n",
        "    opt_d.zero_grad()\r\n",
        "    take_imgg = gen(z.detach())\r\n",
        "    l1 = los(des(take_imgg), fake)\r\n",
        "    l2 = los(des(imgs), real)\r\n",
        "    losss = l1 + l2\r\n",
        "    losss.backward()\r\n",
        "    opt_d.step()\r\n",
        "  print('epoch:', __)"
      ],
      "execution_count": null,
      "outputs": [
        {
          "output_type": "stream",
          "text": [
            "48\n",
            "49\n",
            "50\n",
            "epoch: 0\n",
            "51\n",
            "52\n",
            "53\n",
            "epoch: 1\n",
            "54\n",
            "55\n",
            "56\n",
            "epoch: 2\n",
            "57\n",
            "58\n",
            "59\n",
            "epoch: 3\n",
            "60\n",
            "61\n",
            "62\n",
            "epoch: 4\n",
            "63\n",
            "64\n",
            "65\n",
            "epoch: 5\n",
            "66\n",
            "67\n",
            "68\n",
            "epoch: 6\n",
            "69\n",
            "70\n",
            "71\n",
            "epoch: 7\n",
            "72\n",
            "73\n",
            "74\n",
            "epoch: 8\n",
            "75\n",
            "76\n",
            "77\n",
            "epoch: 9\n",
            "78\n",
            "79\n",
            "80\n",
            "epoch: 10\n",
            "81\n",
            "82\n",
            "83\n",
            "epoch: 11\n",
            "84\n",
            "85\n",
            "86\n",
            "epoch: 12\n",
            "87\n",
            "88\n",
            "89\n",
            "epoch: 13\n",
            "90\n",
            "91\n",
            "92\n",
            "epoch: 14\n",
            "93\n",
            "94\n",
            "95\n",
            "epoch: 15\n",
            "96\n",
            "97\n",
            "98\n",
            "epoch: 16\n",
            "99\n",
            "100\n",
            "101\n",
            "epoch: 17\n",
            "102\n",
            "103\n",
            "104\n",
            "epoch: 18\n",
            "105\n",
            "106\n",
            "107\n",
            "epoch: 19\n"
          ],
          "name": "stdout"
        }
      ]
    },
    {
      "cell_type": "code",
      "metadata": {
        "id": "rS1E8tCipL-5"
      },
      "source": [
        "# jj = 0\n",
        "# for __ in range(20):\n",
        "#   run_d_loss = 0.0\n",
        "#   run_g_loss = 0.0\n",
        "#   for i,(img,yyy) in enumerate(dataloader):\n",
        "\n",
        "#     run_d_loss = 0.0\n",
        "#     run_g_loss = 0.0\n",
        "\n",
        "#     if jj % 80 == 0:\n",
        "#       jjj += 1\n",
        "#       print(jjj)\n",
        "#       save_imagee(jjj)\n",
        "    \n",
        "#     real = Variable(Tensor(img.shape[0], 1).fill_(0.9), requires_grad = False)\n",
        "#     fake = Variable(Tensor(img.shape[0], 1).fill_(0.1), requires_grad = False)\n",
        "\n",
        "#     imgs = Variable(img.type(Tensor))\n",
        "\n",
        "#     z = torch.normal(0,1,size = (img.shape[0], latent)).to('cuda')\n",
        "\n",
        "#     opt_g.zero_grad()\n",
        "#     fake_img = gen(z)\n",
        "#     loss = los(des(fake_img), real)\n",
        "#     loss.backward()\n",
        "#     opt_g.step()\n",
        "#     run_d_loss =+ loss.item() * imgs.size(0)\n",
        "    \n",
        "#     if jj % 2 == 0:\n",
        "#       opt_d.zero_grad()\n",
        "#       take_imgg = gen(z.detach())\n",
        "#       l1 = los(des(take_imgg), fake)\n",
        "#       l2 = los(des(imgs), real)\n",
        "#       losss = l1 + l2\n",
        "#       losss.backward()\n",
        "#       opt_d.step()\n",
        "\n",
        "#       run_d_loss =+ losss.item() * imgs.size(0)\n",
        "    \n",
        "#     jj += 1\n",
        "#   loss_g_values.append(run_g_loss/1000)\n",
        "#   loss_d_values.append(run_d_loss / 1000)\n",
        "\n",
        "#   print('epoch:', __)"
      ],
      "execution_count": null,
      "outputs": []
    },
    {
      "cell_type": "code",
      "metadata": {
        "id": "LDJO-BGPx62a"
      },
      "source": [
        "# z = torch.normal(0,1,size = (img.shape[0], latent)).to('cuda')\n",
        "# h = gen(z)"
      ],
      "execution_count": null,
      "outputs": []
    },
    {
      "cell_type": "code",
      "metadata": {
        "id": "oq-_dsdQZH9x"
      },
      "source": [
        "# h.shape, xx.shape"
      ],
      "execution_count": null,
      "outputs": []
    },
    {
      "cell_type": "code",
      "metadata": {
        "id": "1oMethyFZrJL"
      },
      "source": [
        "# xxx = xx.to('cuda');"
      ],
      "execution_count": null,
      "outputs": []
    },
    {
      "cell_type": "code",
      "metadata": {
        "id": "EoB7MxKdZJiX"
      },
      "source": [
        "# des(xxx)"
      ],
      "execution_count": null,
      "outputs": []
    },
    {
      "cell_type": "code",
      "metadata": {
        "id": "3NxMOre0sPNx"
      },
      "source": [
        "sample_dir = 'images'\n",
        "if not os.path.exists(sample_dir):\n",
        "    os.makedirs(sample_dir)"
      ],
      "execution_count": null,
      "outputs": []
    },
    {
      "cell_type": "code",
      "metadata": {
        "colab": {
          "base_uri": "https://localhost:8080/",
          "height": 34
        },
        "id": "ouwPXShqsqfq",
        "outputId": "510ebe22-d05a-4e9c-dd51-b5b5a05aca7d"
      },
      "source": [
        "#Copied\n",
        "import cv2\n",
        "import os\n",
        "from IPython.display import FileLink\n",
        "\n",
        "vid_fname = 'MNIST.avi'\n",
        "\n",
        "files = [os.path.join(sample_dir, f) for f in os.listdir(sample_dir) if 'fake_image' in f]\n",
        "files.sort()\n",
        "\n",
        "out = cv2.VideoWriter(vid_fname,cv2.VideoWriter_fourcc(*'MP4V'), 16, (242,242))\n",
        "[out.write(cv2.imread(fname)) for fname in files]\n",
        "out.release()\n",
        "FileLink('MNIST.avi')"
      ],
      "execution_count": null,
      "outputs": [
        {
          "output_type": "execute_result",
          "data": {
            "text/html": [
              "<a href='MNIST.avi' target='_blank'>MNIST.avi</a><br>"
            ],
            "text/plain": [
              "/content/MNIST.avi"
            ]
          },
          "metadata": {
            "tags": []
          },
          "execution_count": 32
        }
      ]
    },
    {
      "cell_type": "code",
      "metadata": {
        "id": "jI2PwAD2DrKR"
      },
      "source": [
        ""
      ],
      "execution_count": null,
      "outputs": []
    }
  ]
}